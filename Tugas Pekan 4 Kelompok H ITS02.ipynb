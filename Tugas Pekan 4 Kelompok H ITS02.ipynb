{
 "cells": [
  {
   "cell_type": "code",
   "execution_count": 5,
   "metadata": {},
   "outputs": [
    {
     "name": "stdout",
     "output_type": "stream",
     "text": [
      "    InvoiceNo StockCode                          Description  Quantity  \\\n",
      "0      536365    85123A   WHITE HANGING HEART T-LIGHT HOLDER         6   \n",
      "1      536365     71053                  WHITE METAL LANTERN         6   \n",
      "2      536365    84406B       CREAM CUPID HEARTS COAT HANGER         8   \n",
      "3      536365    84029G  KNITTED UNION FLAG HOT WATER BOTTLE         6   \n",
      "4      536365    84029E       RED WOOLLY HOTTIE WHITE HEART.         6   \n",
      "..        ...       ...                                  ...       ...   \n",
      "95     536378     22352    LUNCH BOX WITH CUTLERY RETROSPOT          6   \n",
      "96     536378     21212      PACK OF 72 RETROSPOT CAKE CASES       120   \n",
      "97     536378     21975       PACK OF 60 DINOSAUR CAKE CASES        24   \n",
      "98     536378     21977   PACK OF 60 PINK PAISLEY CAKE CASES        24   \n",
      "99     536378     84991          60 TEATIME FAIRY CAKE CASES        24   \n",
      "\n",
      "       InvoiceDate  UnitPrice  CustomerID         Country  \n",
      "0   12/1/2010 8:26       2.55       17850  United Kingdom  \n",
      "1   12/1/2010 8:26       3.39       17850  United Kingdom  \n",
      "2   12/1/2010 8:26       2.75       17850  United Kingdom  \n",
      "3   12/1/2010 8:26       3.39       17850  United Kingdom  \n",
      "4   12/1/2010 8:26       3.39       17850  United Kingdom  \n",
      "..             ...        ...         ...             ...  \n",
      "95  12/1/2010 9:37       2.55       14688  United Kingdom  \n",
      "96  12/1/2010 9:37       0.42       14688  United Kingdom  \n",
      "97  12/1/2010 9:37       0.55       14688  United Kingdom  \n",
      "98  12/1/2010 9:37       0.55       14688  United Kingdom  \n",
      "99  12/1/2010 9:37       0.55       14688  United Kingdom  \n",
      "\n",
      "[100 rows x 8 columns]\n"
     ]
    }
   ],
   "source": [
    "import pandas as pd\n",
    "df = pd.read_csv ('data/data.csv')\n",
    "print(df)"
   ]
  },
  {
   "cell_type": "markdown",
   "metadata": {},
   "source": [
    "## Recent customer: 5 Kustomer yang paling terakhir berbelanja"
   ]
  },
  {
   "cell_type": "code",
   "execution_count": 11,
   "metadata": {},
   "outputs": [
    {
     "data": {
      "text/html": [
       "<div>\n",
       "<style scoped>\n",
       "    .dataframe tbody tr th:only-of-type {\n",
       "        vertical-align: middle;\n",
       "    }\n",
       "\n",
       "    .dataframe tbody tr th {\n",
       "        vertical-align: top;\n",
       "    }\n",
       "\n",
       "    .dataframe thead th {\n",
       "        text-align: right;\n",
       "    }\n",
       "</style>\n",
       "<table border=\"1\" class=\"dataframe\">\n",
       "  <thead>\n",
       "    <tr style=\"text-align: right;\">\n",
       "      <th></th>\n",
       "      <th>CustomerID</th>\n",
       "      <th>InvoiceDate</th>\n",
       "    </tr>\n",
       "  </thead>\n",
       "  <tbody>\n",
       "    <tr>\n",
       "      <th>0</th>\n",
       "      <td>12583</td>\n",
       "      <td>12/1/2010 8:45</td>\n",
       "    </tr>\n",
       "    <tr>\n",
       "      <th>1</th>\n",
       "      <td>13047</td>\n",
       "      <td>12/1/2010 8:35</td>\n",
       "    </tr>\n",
       "    <tr>\n",
       "      <th>2</th>\n",
       "      <td>13748</td>\n",
       "      <td>12/1/2010 9:00</td>\n",
       "    </tr>\n",
       "    <tr>\n",
       "      <th>3</th>\n",
       "      <td>14688</td>\n",
       "      <td>12/1/2010 9:37</td>\n",
       "    </tr>\n",
       "    <tr>\n",
       "      <th>4</th>\n",
       "      <td>15100</td>\n",
       "      <td>12/1/2010 9:09</td>\n",
       "    </tr>\n",
       "  </tbody>\n",
       "</table>\n",
       "</div>"
      ],
      "text/plain": [
       "   CustomerID     InvoiceDate\n",
       "0       12583  12/1/2010 8:45\n",
       "1       13047  12/1/2010 8:35\n",
       "2       13748  12/1/2010 9:00\n",
       "3       14688  12/1/2010 9:37\n",
       "4       15100  12/1/2010 9:09"
      ]
     },
     "execution_count": 11,
     "metadata": {},
     "output_type": "execute_result"
    }
   ],
   "source": [
    "df = df.groupby('CustomerID', as_index=False).agg({\"InvoiceDate\": \"max\"})\n",
    "df[:5]"
   ]
  }
 ],
 "metadata": {
  "kernelspec": {
   "display_name": "Python 3",
   "language": "python",
   "name": "python3"
  },
  "language_info": {
   "codemirror_mode": {
    "name": "ipython",
    "version": 3
   },
   "file_extension": ".py",
   "mimetype": "text/x-python",
   "name": "python",
   "nbconvert_exporter": "python",
   "pygments_lexer": "ipython3",
   "version": "3.8.5"
  }
 },
 "nbformat": 4,
 "nbformat_minor": 4
}
